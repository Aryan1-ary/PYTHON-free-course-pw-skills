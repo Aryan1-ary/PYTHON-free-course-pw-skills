{
 "cells": [
  {
   "cell_type": "code",
   "execution_count": 1,
   "id": "42cb2b2c-f788-4aa6-853f-9ba0b57afc4b",
   "metadata": {},
   "outputs": [],
   "source": [
    "#1"
   ]
  },
  {
   "cell_type": "code",
   "execution_count": 10,
   "id": "847fdbb8-911f-468f-860f-48f052e602a3",
   "metadata": {},
   "outputs": [],
   "source": [
    "s=\"'\""
   ]
  },
  {
   "cell_type": "code",
   "execution_count": 11,
   "id": "1e9b3a61-ce3d-48b7-b7dc-18f1cf389642",
   "metadata": {},
   "outputs": [
    {
     "data": {
      "text/plain": [
       "str"
      ]
     },
     "execution_count": 11,
     "metadata": {},
     "output_type": "execute_result"
    }
   ],
   "source": [
    "type (s)\n"
   ]
  },
  {
   "cell_type": "code",
   "execution_count": null,
   "id": "8b8dbbb0-5211-4237-9c3a-8944a29dacb2",
   "metadata": {},
   "outputs": [],
   "source": []
  },
  {
   "cell_type": "code",
   "execution_count": 5,
   "id": "d9453fdc-a591-4e2f-9340-9956f3a97652",
   "metadata": {},
   "outputs": [],
   "source": [
    "#2"
   ]
  },
  {
   "cell_type": "code",
   "execution_count": 6,
   "id": "07a25a01-240d-4a47-a4c3-4ea9822b1203",
   "metadata": {},
   "outputs": [],
   "source": [
    "x='a'"
   ]
  },
  {
   "cell_type": "code",
   "execution_count": 13,
   "id": "4332af50-88c5-4b16-b74b-e91604b0c2c3",
   "metadata": {},
   "outputs": [
    {
     "data": {
      "text/plain": [
       "str"
      ]
     },
     "execution_count": 13,
     "metadata": {},
     "output_type": "execute_result"
    }
   ],
   "source": [
    "type (x)"
   ]
  },
  {
   "cell_type": "code",
   "execution_count": 14,
   "id": "125d9284-03df-4c57-a3b0-4f154c1dd1ce",
   "metadata": {},
   "outputs": [],
   "source": [
    "# i  have prove that x='a' is a strng\n"
   ]
  },
  {
   "cell_type": "code",
   "execution_count": null,
   "id": "2ed42b19-8d69-4be6-b0da-f9c7c366b997",
   "metadata": {},
   "outputs": [],
   "source": []
  },
  {
   "cell_type": "code",
   "execution_count": 15,
   "id": "d9f4552c-b953-4606-8be1-1138412c3139",
   "metadata": {},
   "outputs": [],
   "source": [
    "#3"
   ]
  },
  {
   "cell_type": "code",
   "execution_count": 16,
   "id": "5a8433b5-7bc2-4b37-ba17-644490c45025",
   "metadata": {},
   "outputs": [],
   "source": [
    "s1='Welcome to Python foundation course'"
   ]
  },
  {
   "cell_type": "code",
   "execution_count": 19,
   "id": "47eb2332-0267-4b11-8ec0-c71de59ff770",
   "metadata": {},
   "outputs": [
    {
     "data": {
      "text/plain": [
       "12"
      ]
     },
     "execution_count": 19,
     "metadata": {},
     "output_type": "execute_result"
    }
   ],
   "source": [
    "s1.find ('y')"
   ]
  },
  {
   "cell_type": "code",
   "execution_count": 21,
   "id": "0495a6a1-aefe-4afa-a3dd-5f7a6d4d5559",
   "metadata": {},
   "outputs": [
    {
     "data": {
      "text/plain": [
       "3"
      ]
     },
     "execution_count": 21,
     "metadata": {},
     "output_type": "execute_result"
    }
   ],
   "source": [
    "s1.count ('t')"
   ]
  },
  {
   "cell_type": "code",
   "execution_count": 22,
   "id": "f8196fc3-4663-4226-a981-772529ce8866",
   "metadata": {},
   "outputs": [
    {
     "data": {
      "text/plain": [
       "35"
      ]
     },
     "execution_count": 22,
     "metadata": {},
     "output_type": "execute_result"
    }
   ],
   "source": [
    "len (s1)"
   ]
  },
  {
   "cell_type": "code",
   "execution_count": 23,
   "id": "c59a34f5-0b86-4bf5-a3cd-0df05b695f58",
   "metadata": {},
   "outputs": [
    {
     "data": {
      "text/plain": [
       "'Welcome To Python Foundation Course'"
      ]
     },
     "execution_count": 23,
     "metadata": {},
     "output_type": "execute_result"
    }
   ],
   "source": [
    "s1.title ()"
   ]
  },
  {
   "cell_type": "code",
   "execution_count": null,
   "id": "a8948a3a-cfcf-4293-86a3-405c99f6f93a",
   "metadata": {},
   "outputs": [],
   "source": []
  },
  {
   "cell_type": "code",
   "execution_count": 62,
   "id": "8125fc2e-8e38-4874-99c0-78a6cb584655",
   "metadata": {},
   "outputs": [],
   "source": [
    "#4\n",
    "\n"
   ]
  },
  {
   "cell_type": "code",
   "execution_count": 68,
   "id": "c71fd32f-50f8-4d26-b1b1-cc961ad2b71a",
   "metadata": {},
   "outputs": [
    {
     "name": "stdout",
     "output_type": "stream",
     "text": [
      "1\n",
      "2\n",
      "3\n",
      "4\n"
     ]
    }
   ],
   "source": [
    "w1= 'PanaJi@12256'\n",
    "\n",
    "count = 0\n",
    "for char in w1:\n",
    "    if char.islower():\n",
    "        count +=1\n",
    "        print (count)"
   ]
  },
  {
   "cell_type": "code",
   "execution_count": 60,
   "id": "3f8b980b-cb6e-4602-b6c8-be648c4cb790",
   "metadata": {},
   "outputs": [
    {
     "name": "stdout",
     "output_type": "stream",
     "text": [
      "1\n",
      "2\n",
      "3\n",
      "4\n"
     ]
    }
   ],
   "source": []
  },
  {
   "cell_type": "code",
   "execution_count": null,
   "id": "3de1480a-9914-4a59-80c4-fe12b82c4f20",
   "metadata": {},
   "outputs": [],
   "source": []
  },
  {
   "cell_type": "code",
   "execution_count": 67,
   "id": "e666fc95-38cd-496b-b511-21b661e02583",
   "metadata": {},
   "outputs": [
    {
     "name": "stdout",
     "output_type": "stream",
     "text": [
      "1\n",
      "2\n"
     ]
    }
   ],
   "source": [
    "w1= 'PanaJi@12256'\n",
    "\n",
    "count = 0\n",
    "for char in w1:\n",
    "    if char.isupper():\n",
    "        count +=1\n",
    "        print (count)"
   ]
  },
  {
   "cell_type": "code",
   "execution_count": null,
   "id": "37a20b8e-2dd0-4035-9cf8-d9530051b63d",
   "metadata": {},
   "outputs": [],
   "source": []
  },
  {
   "cell_type": "code",
   "execution_count": 69,
   "id": "199d847f-270d-4a4b-8e20-cff2f001beda",
   "metadata": {},
   "outputs": [],
   "source": [
    "w1= 'PanaJi@12256'\n",
    "\n"
   ]
  },
  {
   "cell_type": "code",
   "execution_count": 70,
   "id": "de069e85-20dc-49d5-b639-24e03d062511",
   "metadata": {},
   "outputs": [
    {
     "data": {
      "text/plain": [
       "12"
      ]
     },
     "execution_count": 70,
     "metadata": {},
     "output_type": "execute_result"
    }
   ],
   "source": [
    "len(w1)"
   ]
  },
  {
   "cell_type": "markdown",
   "id": "ec3eebef-8b8b-4217-9035-2af7a59396bd",
   "metadata": {},
   "source": []
  },
  {
   "cell_type": "code",
   "execution_count": null,
   "id": "e33d2738-7156-4cff-9e81-c43600aca559",
   "metadata": {},
   "outputs": [],
   "source": []
  },
  {
   "cell_type": "code",
   "execution_count": 51,
   "id": "4086218f-02a5-4872-8a46-568370557d77",
   "metadata": {},
   "outputs": [],
   "source": [
    "#5"
   ]
  },
  {
   "cell_type": "code",
   "execution_count": 52,
   "id": "5a723eac-870f-4ce6-87c9-a2e90f54b391",
   "metadata": {},
   "outputs": [],
   "source": [
    "x=4"
   ]
  },
  {
   "cell_type": "code",
   "execution_count": 53,
   "id": "7d98c336-c51e-4550-8528-9d3c6323ef31",
   "metadata": {},
   "outputs": [],
   "source": [
    "x='hello'"
   ]
  },
  {
   "cell_type": "code",
   "execution_count": 54,
   "id": "b36a6e0f-7409-47bf-8723-774e956e047e",
   "metadata": {},
   "outputs": [
    {
     "data": {
      "text/plain": [
       "str"
      ]
     },
     "execution_count": 54,
     "metadata": {},
     "output_type": "execute_result"
    }
   ],
   "source": [
    "type (x)"
   ]
  },
  {
   "cell_type": "code",
   "execution_count": null,
   "id": "f4052318-e475-4c92-9a9e-aa377a6a9373",
   "metadata": {},
   "outputs": [],
   "source": []
  }
 ],
 "metadata": {
  "kernelspec": {
   "display_name": "Python 3 (ipykernel)",
   "language": "python",
   "name": "python3"
  },
  "language_info": {
   "codemirror_mode": {
    "name": "ipython",
    "version": 3
   },
   "file_extension": ".py",
   "mimetype": "text/x-python",
   "name": "python",
   "nbconvert_exporter": "python",
   "pygments_lexer": "ipython3",
   "version": "3.10.8"
  }
 },
 "nbformat": 4,
 "nbformat_minor": 5
}
