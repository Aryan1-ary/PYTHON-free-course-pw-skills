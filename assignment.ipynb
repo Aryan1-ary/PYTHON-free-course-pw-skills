{
 "cells": [
  {
   "cell_type": "code",
   "execution_count": 7,
   "id": "580c7012-da57-4d5d-866f-e9fc3cead5b0",
   "metadata": {},
   "outputs": [],
   "source": [
    "#que1\n",
    "age=20\n"
   ]
  },
  {
   "cell_type": "code",
   "execution_count": 6,
   "id": "9d206fd8-05ef-4487-8afb-ff32ae2e142d",
   "metadata": {},
   "outputs": [
    {
     "data": {
      "text/plain": [
       "40"
      ]
     },
     "execution_count": 6,
     "metadata": {},
     "output_type": "execute_result"
    }
   ],
   "source": [
    "age*2\n"
   ]
  },
  {
   "cell_type": "code",
   "execution_count": 8,
   "id": "a2fca9aa-b19e-4aae-8713-0e7c2854e8e2",
   "metadata": {},
   "outputs": [],
   "source": [
    "name=\"aryan\""
   ]
  },
  {
   "cell_type": "code",
   "execution_count": null,
   "id": "ae957a9b-67cf-4059-a833-7d0f1ba3195e",
   "metadata": {},
   "outputs": [],
   "source": [
    "student names= [john , aryan , appu]"
   ]
  },
  {
   "cell_type": "code",
   "execution_count": null,
   "id": "1b5e1c2c-ccc7-4d7d-8d08-4a36bfad0b5e",
   "metadata": {},
   "outputs": [],
   "source": [
    "students name"
   ]
  },
  {
   "cell_type": "code",
   "execution_count": null,
   "id": "7aae27c4-41e7-4c0c-981a-a599d8bca9cf",
   "metadata": {},
   "outputs": [],
   "source": []
  },
  {
   "cell_type": "code",
   "execution_count": 11,
   "id": "726f344e-6971-4da6-9938-0c49eab67e02",
   "metadata": {},
   "outputs": [],
   "source": [
    "#que2\n"
   ]
  },
  {
   "cell_type": "code",
   "execution_count": null,
   "id": "098d3ed7-d6cc-4dda-9167-813f653fe371",
   "metadata": {},
   "outputs": [],
   "source": [
    "#it will show a syntax error\n"
   ]
  },
  {
   "cell_type": "code",
   "execution_count": 13,
   "id": "380dff83-c7af-4e34-968e-2483b8d56b84",
   "metadata": {},
   "outputs": [
    {
     "ename": "SyntaxError",
     "evalue": "invalid syntax (2409676430.py, line 1)",
     "output_type": "error",
     "traceback": [
      "\u001b[0;36m  Cell \u001b[0;32mIn[13], line 1\u001b[0;36m\u001b[0m\n\u001b[0;31m    if = 5\u001b[0m\n\u001b[0m       ^\u001b[0m\n\u001b[0;31mSyntaxError\u001b[0m\u001b[0;31m:\u001b[0m invalid syntax\n"
     ]
    }
   ],
   "source": [
    "if = 5\n",
    "\n"
   ]
  },
  {
   "cell_type": "code",
   "execution_count": null,
   "id": "ef81f28d-5cdf-49dd-a320-32af3cab936d",
   "metadata": {},
   "outputs": [],
   "source": [
    "\n"
   ]
  },
  {
   "cell_type": "code",
   "execution_count": 14,
   "id": "f925f079-e665-4db8-9a8f-89a7fcad3c8c",
   "metadata": {},
   "outputs": [],
   "source": [
    "#que 3       yes\n"
   ]
  },
  {
   "cell_type": "code",
   "execution_count": null,
   "id": "2e3369fa-6162-4354-8c3b-633e9f9a537d",
   "metadata": {},
   "outputs": [],
   "source": [
    "a= \"aryan\""
   ]
  },
  {
   "cell_type": "code",
   "execution_count": 17,
   "id": "6652a293-2e2b-43d6-918d-cbb426f03fee",
   "metadata": {},
   "outputs": [
    {
     "data": {
      "text/plain": [
       "str"
      ]
     },
     "execution_count": 17,
     "metadata": {},
     "output_type": "execute_result"
    }
   ],
   "source": [
    "type(a)"
   ]
  },
  {
   "cell_type": "code",
   "execution_count": 18,
   "id": "f4adc06d-7112-40e4-8415-45b6590fce68",
   "metadata": {},
   "outputs": [],
   "source": [
    "aryan = 20"
   ]
  },
  {
   "cell_type": "code",
   "execution_count": 21,
   "id": "e27219a9-0f48-4dd7-8724-86f70b4154fc",
   "metadata": {},
   "outputs": [
    {
     "data": {
      "text/plain": [
       "40"
      ]
     },
     "execution_count": 21,
     "metadata": {},
     "output_type": "execute_result"
    }
   ],
   "source": [
    "aryan*2"
   ]
  },
  {
   "cell_type": "code",
   "execution_count": 20,
   "id": "03b992e4-6ca2-4dcc-9831-d34d9d46eba6",
   "metadata": {},
   "outputs": [],
   "source": [
    "\n"
   ]
  },
  {
   "cell_type": "code",
   "execution_count": 22,
   "id": "2c577d62-5e11-4350-ac9c-26d9e1a2203a",
   "metadata": {},
   "outputs": [],
   "source": [
    "#4 yes"
   ]
  },
  {
   "cell_type": "code",
   "execution_count": null,
   "id": "125ecc7f-13a9-40d5-ade4-e4960a76d9c8",
   "metadata": {},
   "outputs": [],
   "source": [
    "_ = 65   "
   ]
  },
  {
   "cell_type": "code",
   "execution_count": 27,
   "id": "05a036c0-1e96-4671-8034-0fba53d0d6bc",
   "metadata": {},
   "outputs": [
    {
     "data": {
      "text/plain": [
       "130"
      ]
     },
     "execution_count": 27,
     "metadata": {},
     "output_type": "execute_result"
    }
   ],
   "source": [
    "_*2"
   ]
  },
  {
   "cell_type": "code",
   "execution_count": null,
   "id": "56ad00e3-5cc6-49c3-969c-0f038644a2e2",
   "metadata": {},
   "outputs": [],
   "source": []
  },
  {
   "cell_type": "code",
   "execution_count": 28,
   "id": "67865203-275d-4db2-9f0a-b051c0ad645c",
   "metadata": {},
   "outputs": [],
   "source": [
    "#5 yes python is dynamic"
   ]
  },
  {
   "cell_type": "code",
   "execution_count": 29,
   "id": "a0dc36af-9656-476c-977e-710b1ca66fc5",
   "metadata": {},
   "outputs": [],
   "source": [
    "t=5"
   ]
  },
  {
   "cell_type": "code",
   "execution_count": 30,
   "id": "dc6a48ee-ad2b-4e24-aca4-41f563181291",
   "metadata": {},
   "outputs": [
    {
     "data": {
      "text/plain": [
       "int"
      ]
     },
     "execution_count": 30,
     "metadata": {},
     "output_type": "execute_result"
    }
   ],
   "source": [
    "type(t)"
   ]
  },
  {
   "cell_type": "code",
   "execution_count": 37,
   "id": "43686a34-f09f-471e-baf3-1b929fd8d9bd",
   "metadata": {},
   "outputs": [],
   "source": [
    "t = \"apple\""
   ]
  },
  {
   "cell_type": "code",
   "execution_count": 38,
   "id": "f03c1584-9a40-4814-aa25-baf14b0920bd",
   "metadata": {},
   "outputs": [
    {
     "data": {
      "text/plain": [
       "str"
      ]
     },
     "execution_count": 38,
     "metadata": {},
     "output_type": "execute_result"
    }
   ],
   "source": [
    "type(t)"
   ]
  },
  {
   "cell_type": "code",
   "execution_count": null,
   "id": "98491806-5537-46d3-80b2-75515c3b08fd",
   "metadata": {},
   "outputs": [],
   "source": []
  },
  {
   "cell_type": "code",
   "execution_count": null,
   "id": "c5bcfe69-6445-4976-9987-65f4c1f10c7b",
   "metadata": {},
   "outputs": [],
   "source": []
  },
  {
   "cell_type": "code",
   "execution_count": null,
   "id": "b2f63366-bb15-46b7-8124-782cfb9d5ef4",
   "metadata": {},
   "outputs": [],
   "source": []
  }
 ],
 "metadata": {
  "kernelspec": {
   "display_name": "Python 3 (ipykernel)",
   "language": "python",
   "name": "python3"
  },
  "language_info": {
   "codemirror_mode": {
    "name": "ipython",
    "version": 3
   },
   "file_extension": ".py",
   "mimetype": "text/x-python",
   "name": "python",
   "nbconvert_exporter": "python",
   "pygments_lexer": "ipython3",
   "version": "3.10.8"
  }
 },
 "nbformat": 4,
 "nbformat_minor": 5
}
