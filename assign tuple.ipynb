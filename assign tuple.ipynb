{
 "cells": [
  {
   "cell_type": "code",
   "execution_count": null,
   "id": "bf243f4d-e3f0-4774-a398-7c2669c16c42",
   "metadata": {},
   "outputs": [],
   "source": [
    "#1....it same as list u can store int, string anything\n",
    "#but u cannot edit .... its IMMUTABLE"
   ]
  },
  {
   "cell_type": "code",
   "execution_count": 2,
   "id": "c3bb5f85-07f3-4b66-87ca-6b3a82d9d238",
   "metadata": {},
   "outputs": [],
   "source": [
    "#2"
   ]
  },
  {
   "cell_type": "code",
   "execution_count": 3,
   "id": "f7584234-8bdf-419b-b929-b4f7fd6362b9",
   "metadata": {},
   "outputs": [],
   "source": [
    "t=()"
   ]
  },
  {
   "cell_type": "code",
   "execution_count": 4,
   "id": "ebab7cfc-86a0-4f4e-b42e-051a8458664d",
   "metadata": {},
   "outputs": [],
   "source": [
    "##3......tuples are immutable         list are mutable\n",
    "#.......()                            []"
   ]
  },
  {
   "cell_type": "code",
   "execution_count": 5,
   "id": "c631893f-fbe1-4932-84fa-84d0b311ad1e",
   "metadata": {},
   "outputs": [],
   "source": [
    "#4...yes"
   ]
  },
  {
   "cell_type": "code",
   "execution_count": 6,
   "id": "57836692-c193-4aa9-a674-dd8b74a12b80",
   "metadata": {},
   "outputs": [],
   "source": [
    "t1=(2,4,'ary')"
   ]
  },
  {
   "cell_type": "code",
   "execution_count": 7,
   "id": "24ccfd84-be17-4d06-bc32-6f4c2286d63b",
   "metadata": {},
   "outputs": [
    {
     "data": {
      "text/plain": [
       "[2, 4, 'ary']"
      ]
     },
     "execution_count": 7,
     "metadata": {},
     "output_type": "execute_result"
    }
   ],
   "source": [
    "list(t1)"
   ]
  },
  {
   "cell_type": "code",
   "execution_count": 8,
   "id": "3f39dc92-f37e-4768-9d8b-dc2de74d001e",
   "metadata": {},
   "outputs": [],
   "source": [
    "#5"
   ]
  },
  {
   "cell_type": "code",
   "execution_count": 9,
   "id": "581ae82d-5e1f-4407-8ac0-ab0a8dc8d668",
   "metadata": {},
   "outputs": [
    {
     "data": {
      "text/plain": [
       "2"
      ]
     },
     "execution_count": 9,
     "metadata": {},
     "output_type": "execute_result"
    }
   ],
   "source": [
    "t1.index('ary')"
   ]
  },
  {
   "cell_type": "code",
   "execution_count": null,
   "id": "88b30c3d-0853-4c3b-8c5c-fa47d29e6747",
   "metadata": {},
   "outputs": [],
   "source": [
    "t1"
   ]
  }
 ],
 "metadata": {
  "kernelspec": {
   "display_name": "Python 3 (ipykernel)",
   "language": "python",
   "name": "python3"
  },
  "language_info": {
   "codemirror_mode": {
    "name": "ipython",
    "version": 3
   },
   "file_extension": ".py",
   "mimetype": "text/x-python",
   "name": "python",
   "nbconvert_exporter": "python",
   "pygments_lexer": "ipython3",
   "version": "3.10.8"
  }
 },
 "nbformat": 4,
 "nbformat_minor": 5
}
