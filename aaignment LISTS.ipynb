{
 "cells": [
  {
   "cell_type": "code",
   "execution_count": 1,
   "id": "6d1c806b-9616-4b4d-bf60-3a90526d4bd1",
   "metadata": {},
   "outputs": [],
   "source": [
    "#1"
   ]
  },
  {
   "cell_type": "code",
   "execution_count": 2,
   "id": "f91322b9-fbc2-44d5-83d9-21f0da9d545a",
   "metadata": {},
   "outputs": [],
   "source": [
    "a=[]"
   ]
  },
  {
   "cell_type": "code",
   "execution_count": 3,
   "id": "ffdd96ff-7285-4918-ac86-48c767f87efb",
   "metadata": {},
   "outputs": [
    {
     "data": {
      "text/plain": [
       "list"
      ]
     },
     "execution_count": 3,
     "metadata": {},
     "output_type": "execute_result"
    }
   ],
   "source": [
    "type(a)"
   ]
  },
  {
   "cell_type": "code",
   "execution_count": 4,
   "id": "c6d0635b-c918-40f5-9778-71c71bd502d1",
   "metadata": {},
   "outputs": [
    {
     "data": {
      "text/plain": [
       "[]"
      ]
     },
     "execution_count": 4,
     "metadata": {},
     "output_type": "execute_result"
    }
   ],
   "source": [
    "a"
   ]
  },
  {
   "cell_type": "code",
   "execution_count": null,
   "id": "3d25c398-58e7-4ab0-909a-cc41f88aac20",
   "metadata": {},
   "outputs": [],
   "source": []
  },
  {
   "cell_type": "code",
   "execution_count": 5,
   "id": "0256bb4d-d1cd-491f-90e2-962220103cdc",
   "metadata": {},
   "outputs": [],
   "source": [
    "#2"
   ]
  },
  {
   "cell_type": "code",
   "execution_count": 9,
   "id": "2deecb03-0509-4a5d-8d9c-6adb92ff55f1",
   "metadata": {},
   "outputs": [],
   "source": [
    "b=['h','li','b','al']"
   ]
  },
  {
   "cell_type": "code",
   "execution_count": 10,
   "id": "46d39285-acb3-4389-8f2a-2ec4d5348f2d",
   "metadata": {},
   "outputs": [],
   "source": [
    "#3"
   ]
  },
  {
   "cell_type": "code",
   "execution_count": 11,
   "id": "48753e7c-8f8f-4730-a09c-914bf2a0ddca",
   "metadata": {},
   "outputs": [
    {
     "data": {
      "text/plain": [
       "'al'"
      ]
     },
     "execution_count": 11,
     "metadata": {},
     "output_type": "execute_result"
    }
   ],
   "source": [
    "b[3]"
   ]
  },
  {
   "cell_type": "code",
   "execution_count": 12,
   "id": "48b4a167-ec1d-4c4a-adb2-06af861f36bd",
   "metadata": {},
   "outputs": [],
   "source": [
    "#4"
   ]
  },
  {
   "cell_type": "code",
   "execution_count": 14,
   "id": "de9eabd1-6a03-499c-8272-cdab6107ca98",
   "metadata": {},
   "outputs": [
    {
     "data": {
      "text/plain": [
       "['al', 'b', 'li', 'h']"
      ]
     },
     "execution_count": 14,
     "metadata": {},
     "output_type": "execute_result"
    }
   ],
   "source": [
    "b[::-1]"
   ]
  },
  {
   "cell_type": "code",
   "execution_count": 15,
   "id": "21177f97-94e3-4a01-a126-807dbb11dd28",
   "metadata": {},
   "outputs": [],
   "source": [
    "#5"
   ]
  },
  {
   "cell_type": "code",
   "execution_count": 16,
   "id": "80ea1368-570b-47a0-b8cb-7fbb3bc70bff",
   "metadata": {},
   "outputs": [
    {
     "data": {
      "text/plain": [
       "['h', 'li', 'b', 'al']"
      ]
     },
     "execution_count": 16,
     "metadata": {},
     "output_type": "execute_result"
    }
   ],
   "source": [
    "b"
   ]
  },
  {
   "cell_type": "code",
   "execution_count": 17,
   "id": "55285838-fcf0-4d04-857b-f904cc79352c",
   "metadata": {},
   "outputs": [],
   "source": [
    "#6"
   ]
  },
  {
   "cell_type": "code",
   "execution_count": 18,
   "id": "dfd41db9-976f-49e7-a5b2-883e3482e563",
   "metadata": {},
   "outputs": [],
   "source": [
    "f=[\"avengers end game\",\"avatar\",'titanic']"
   ]
  },
  {
   "cell_type": "code",
   "execution_count": 19,
   "id": "1a72294c-3ad4-47f6-88eb-a6bd207d762c",
   "metadata": {},
   "outputs": [
    {
     "data": {
      "text/plain": [
       "'titanic'"
      ]
     },
     "execution_count": 19,
     "metadata": {},
     "output_type": "execute_result"
    }
   ],
   "source": [
    "f[2]"
   ]
  },
  {
   "cell_type": "code",
   "execution_count": 20,
   "id": "c04e7259-b522-4b7e-a35e-d3b0fcf55656",
   "metadata": {},
   "outputs": [],
   "source": [
    "#7 "
   ]
  },
  {
   "cell_type": "code",
   "execution_count": 22,
   "id": "b53e51a0-de03-41f9-8596-c12bd7497b82",
   "metadata": {},
   "outputs": [],
   "source": [
    "z=['dog','horse','wolf','man']"
   ]
  },
  {
   "cell_type": "code",
   "execution_count": 24,
   "id": "64a01613-42df-478c-ad7b-e18d99a3ee04",
   "metadata": {},
   "outputs": [],
   "source": [
    "z[3] = 'human'"
   ]
  },
  {
   "cell_type": "code",
   "execution_count": 25,
   "id": "b3cdc4a4-04e9-45bb-915b-046fa21b057f",
   "metadata": {},
   "outputs": [
    {
     "data": {
      "text/plain": [
       "['dog', 'horse', 'wolf', 'human']"
      ]
     },
     "execution_count": 25,
     "metadata": {},
     "output_type": "execute_result"
    }
   ],
   "source": [
    "z"
   ]
  },
  {
   "cell_type": "code",
   "execution_count": 27,
   "id": "fa55bede-66f8-474d-b920-4f83258a6e74",
   "metadata": {},
   "outputs": [],
   "source": [
    "#was it funny"
   ]
  },
  {
   "cell_type": "code",
   "execution_count": 28,
   "id": "aeda6d3f-ae6f-464b-a120-54c22acd18b0",
   "metadata": {},
   "outputs": [],
   "source": [
    "#8"
   ]
  },
  {
   "cell_type": "code",
   "execution_count": 29,
   "id": "80b5d5cd-3dd6-4911-abe1-fbaf7a58b913",
   "metadata": {},
   "outputs": [],
   "source": [
    "c=['dubai','mumbai','goa','banglore','chennai','nagpur']"
   ]
  },
  {
   "cell_type": "code",
   "execution_count": 31,
   "id": "ea7eac7c-3764-4c8f-9b8f-6ef24d41c0e8",
   "metadata": {},
   "outputs": [
    {
     "data": {
      "text/plain": [
       "'nagpur'"
      ]
     },
     "execution_count": 31,
     "metadata": {},
     "output_type": "execute_result"
    }
   ],
   "source": [
    "c[5]"
   ]
  },
  {
   "cell_type": "code",
   "execution_count": null,
   "id": "5ded229b-c148-4f59-9d34-fd2b4e03cb71",
   "metadata": {},
   "outputs": [],
   "source": []
  }
 ],
 "metadata": {
  "kernelspec": {
   "display_name": "Python 3 (ipykernel)",
   "language": "python",
   "name": "python3"
  },
  "language_info": {
   "codemirror_mode": {
    "name": "ipython",
    "version": 3
   },
   "file_extension": ".py",
   "mimetype": "text/x-python",
   "name": "python",
   "nbconvert_exporter": "python",
   "pygments_lexer": "ipython3",
   "version": "3.10.8"
  }
 },
 "nbformat": 4,
 "nbformat_minor": 5
}
