{
 "cells": [
  {
   "cell_type": "code",
   "execution_count": 1,
   "id": "c9350c15-bcfa-4e72-b633-12aeff15d22b",
   "metadata": {},
   "outputs": [],
   "source": [
    "#1...basically it removes duplicacy of data"
   ]
  },
  {
   "cell_type": "code",
   "execution_count": 2,
   "id": "af636f19-534a-4a30-a3f7-bda6206a8b95",
   "metadata": {},
   "outputs": [],
   "source": [
    "#2... curly brackett"
   ]
  },
  {
   "cell_type": "code",
   "execution_count": 12,
   "id": "21a74656-d0b9-4443-8287-8c5376a2ee14",
   "metadata": {},
   "outputs": [],
   "source": [
    "s={1,2,3,1,2,3}"
   ]
  },
  {
   "cell_type": "code",
   "execution_count": 13,
   "id": "fba1353a-c050-427a-9fd8-52b6480011dd",
   "metadata": {},
   "outputs": [
    {
     "data": {
      "text/plain": [
       "{1, 2, 3}"
      ]
     },
     "execution_count": 13,
     "metadata": {},
     "output_type": "execute_result"
    }
   ],
   "source": [
    "s"
   ]
  },
  {
   "cell_type": "code",
   "execution_count": null,
   "id": "e2c1de46-96e2-4910-81d9-3a82a5b6d7cd",
   "metadata": {},
   "outputs": [],
   "source": [
    "#3.... "
   ]
  },
  {
   "cell_type": "code",
   "execution_count": 14,
   "id": "31b795d1-6e7a-4435-9c27-40b203833de4",
   "metadata": {},
   "outputs": [],
   "source": [
    "s.add(5)"
   ]
  },
  {
   "cell_type": "code",
   "execution_count": 15,
   "id": "9af6f230-35b2-4fe8-9ca2-4e424076737a",
   "metadata": {},
   "outputs": [
    {
     "data": {
      "text/plain": [
       "{1, 2, 3, 5}"
      ]
     },
     "execution_count": 15,
     "metadata": {},
     "output_type": "execute_result"
    }
   ],
   "source": [
    "s"
   ]
  },
  {
   "cell_type": "code",
   "execution_count": 17,
   "id": "8c49963a-8240-45fd-945e-3bc2518afd23",
   "metadata": {},
   "outputs": [],
   "source": [
    "#4"
   ]
  },
  {
   "cell_type": "code",
   "execution_count": 18,
   "id": "5c03f701-5a1f-453e-ab5d-c37007e81e6e",
   "metadata": {},
   "outputs": [],
   "source": [
    "s.remove(3)"
   ]
  },
  {
   "cell_type": "code",
   "execution_count": 19,
   "id": "37d3cb48-9c9a-44ef-9253-51f3f1fb7aad",
   "metadata": {},
   "outputs": [
    {
     "data": {
      "text/plain": [
       "{1, 2, 5}"
      ]
     },
     "execution_count": 19,
     "metadata": {},
     "output_type": "execute_result"
    }
   ],
   "source": [
    "s"
   ]
  },
  {
   "cell_type": "code",
   "execution_count": 20,
   "id": "c92d0ffe-e3a1-46ca-8a51-13d89eecfe8b",
   "metadata": {},
   "outputs": [],
   "source": [
    "#5..."
   ]
  },
  {
   "cell_type": "code",
   "execution_count": 23,
   "id": "ad3a5f74-7f3e-43fb-a625-047e75dc9bae",
   "metadata": {},
   "outputs": [
    {
     "ename": "AttributeError",
     "evalue": "'set' object has no attribute 'len'",
     "output_type": "error",
     "traceback": [
      "\u001b[0;31m---------------------------------------------------------------------------\u001b[0m",
      "\u001b[0;31mAttributeError\u001b[0m                            Traceback (most recent call last)",
      "Cell \u001b[0;32mIn[23], line 1\u001b[0m\n\u001b[0;32m----> 1\u001b[0m \u001b[43ms\u001b[49m\u001b[38;5;241;43m.\u001b[39;49m\u001b[43mlen\u001b[49m(\u001b[38;5;241m5\u001b[39m)\n",
      "\u001b[0;31mAttributeError\u001b[0m: 'set' object has no attribute 'len'"
     ]
    }
   ],
   "source": [
    "len(s)"
   ]
  },
  {
   "cell_type": "code",
   "execution_count": null,
   "id": "80206f3c-0377-4da5-8a0e-45302ee3b12f",
   "metadata": {},
   "outputs": [],
   "source": []
  }
 ],
 "metadata": {
  "kernelspec": {
   "display_name": "Python 3 (ipykernel)",
   "language": "python",
   "name": "python3"
  },
  "language_info": {
   "codemirror_mode": {
    "name": "ipython",
    "version": 3
   },
   "file_extension": ".py",
   "mimetype": "text/x-python",
   "name": "python",
   "nbconvert_exporter": "python",
   "pygments_lexer": "ipython3",
   "version": "3.10.8"
  }
 },
 "nbformat": 4,
 "nbformat_minor": 5
}
