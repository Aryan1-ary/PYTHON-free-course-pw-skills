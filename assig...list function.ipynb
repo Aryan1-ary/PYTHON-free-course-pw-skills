{
 "cells": [
  {
   "cell_type": "code",
   "execution_count": 1,
   "id": "bf243f4d-e3f0-4774-a398-7c2669c16c42",
   "metadata": {},
   "outputs": [],
   "source": [
    "#1"
   ]
  },
  {
   "cell_type": "code",
   "execution_count": 31,
   "id": "c3bb5f85-07f3-4b66-87ca-6b3a82d9d238",
   "metadata": {},
   "outputs": [],
   "source": [
    "l1=[1,2,3,\"aryan\",True]"
   ]
  },
  {
   "cell_type": "code",
   "execution_count": 32,
   "id": "f7584234-8bdf-419b-b929-b4f7fd6362b9",
   "metadata": {},
   "outputs": [],
   "source": [
    "l1.append(\"black\")"
   ]
  },
  {
   "cell_type": "code",
   "execution_count": 33,
   "id": "57836692-c193-4aa9-a674-dd8b74a12b80",
   "metadata": {},
   "outputs": [
    {
     "data": {
      "text/plain": [
       "[1, 2, 3, 'aryan', True, 'black']"
      ]
     },
     "execution_count": 33,
     "metadata": {},
     "output_type": "execute_result"
    }
   ],
   "source": [
    "l1"
   ]
  },
  {
   "cell_type": "code",
   "execution_count": 34,
   "id": "18367ecd-3786-46bb-9e8d-b07f38cb59e7",
   "metadata": {},
   "outputs": [],
   "source": [
    "l1.insert(3,\"white\")"
   ]
  },
  {
   "cell_type": "code",
   "execution_count": 35,
   "id": "7bb28969-f042-478b-97d3-3c241f2d8614",
   "metadata": {},
   "outputs": [
    {
     "data": {
      "text/plain": [
       "[1, 2, 3, 'white', 'aryan', True, 'black']"
      ]
     },
     "execution_count": 35,
     "metadata": {},
     "output_type": "execute_result"
    }
   ],
   "source": [
    "l1"
   ]
  },
  {
   "cell_type": "code",
   "execution_count": null,
   "id": "241edd0c-db39-4261-bc61-5bd271ba9bb2",
   "metadata": {},
   "outputs": [],
   "source": []
  },
  {
   "cell_type": "code",
   "execution_count": 41,
   "id": "ea68bc1d-8306-4df8-be13-f52d96f77960",
   "metadata": {},
   "outputs": [],
   "source": [
    "#2 it reomve if anything u have remove in lists\n",
    "   #pop also removes\n",
    "    # sorry sir i didnt get there any difference"
   ]
  },
  {
   "cell_type": "code",
   "execution_count": 37,
   "id": "055f37c4-feaa-4576-87e4-6b1c0a9a03bb",
   "metadata": {},
   "outputs": [],
   "source": [
    "l1.remove(3)"
   ]
  },
  {
   "cell_type": "code",
   "execution_count": 38,
   "id": "26e66f04-b563-4954-acf1-edf6dc9b0e51",
   "metadata": {},
   "outputs": [
    {
     "data": {
      "text/plain": [
       "[1, 2, 'white', 'aryan', True, 'black']"
      ]
     },
     "execution_count": 38,
     "metadata": {},
     "output_type": "execute_result"
    }
   ],
   "source": [
    "l1"
   ]
  },
  {
   "cell_type": "code",
   "execution_count": 39,
   "id": "a01984e0-b449-48e1-bf54-f15985ec5820",
   "metadata": {},
   "outputs": [
    {
     "data": {
      "text/plain": [
       "'aryan'"
      ]
     },
     "execution_count": 39,
     "metadata": {},
     "output_type": "execute_result"
    }
   ],
   "source": [
    "l1.pop(3)"
   ]
  },
  {
   "cell_type": "code",
   "execution_count": 40,
   "id": "fcd1e98e-a917-4c6f-a8e3-bf4a6dbf33ca",
   "metadata": {},
   "outputs": [
    {
     "data": {
      "text/plain": [
       "[1, 2, 'white', True, 'black']"
      ]
     },
     "execution_count": 40,
     "metadata": {},
     "output_type": "execute_result"
    }
   ],
   "source": [
    "l1"
   ]
  },
  {
   "cell_type": "code",
   "execution_count": null,
   "id": "441ac649-7b01-4e64-8856-275aa1d7d688",
   "metadata": {},
   "outputs": [],
   "source": []
  },
  {
   "cell_type": "code",
   "execution_count": 42,
   "id": "58f8cd70-2218-4d58-a103-44ea61a59a5c",
   "metadata": {},
   "outputs": [],
   "source": [
    "#3"
   ]
  },
  {
   "cell_type": "code",
   "execution_count": 54,
   "id": "605a200f-7148-4aee-a495-205ded255b87",
   "metadata": {},
   "outputs": [],
   "source": [
    "l2=[1,3,7,9,\"ary\",False]"
   ]
  },
  {
   "cell_type": "code",
   "execution_count": 55,
   "id": "b639e403-7fb9-4502-8051-0bd9b65fb250",
   "metadata": {},
   "outputs": [
    {
     "data": {
      "text/plain": [
       "[False, 'ary', 9, 7, 3, 1]"
      ]
     },
     "execution_count": 55,
     "metadata": {},
     "output_type": "execute_result"
    }
   ],
   "source": [
    "l2[::-1]"
   ]
  },
  {
   "cell_type": "code",
   "execution_count": null,
   "id": "b5d4ce22-42d5-4f96-bbbf-5c4a2620e0f3",
   "metadata": {},
   "outputs": [],
   "source": []
  },
  {
   "cell_type": "code",
   "execution_count": 49,
   "id": "3e9114ff-b3f4-4c76-84cf-762599b7b274",
   "metadata": {},
   "outputs": [],
   "source": [
    "#4"
   ]
  },
  {
   "cell_type": "code",
   "execution_count": 57,
   "id": "f1b4bf42-6dbf-4c57-8df9-472df1d77e3e",
   "metadata": {},
   "outputs": [],
   "source": [
    "l3=[1,2,3,5,8,6,9,5,3,8,3]"
   ]
  },
  {
   "cell_type": "code",
   "execution_count": 58,
   "id": "ee09a673-d924-443b-99c2-ebe8073273f7",
   "metadata": {},
   "outputs": [
    {
     "data": {
      "text/plain": [
       "3"
      ]
     },
     "execution_count": 58,
     "metadata": {},
     "output_type": "execute_result"
    }
   ],
   "source": [
    "l3.count(3)"
   ]
  },
  {
   "cell_type": "code",
   "execution_count": 59,
   "id": "a6080870-dca0-46be-a01d-6aa9839205f5",
   "metadata": {},
   "outputs": [],
   "source": [
    "#5"
   ]
  },
  {
   "cell_type": "code",
   "execution_count": 60,
   "id": "f9699121-f5c4-438d-a1df-66efc3d348ac",
   "metadata": {},
   "outputs": [],
   "source": [
    "l3.reverse()"
   ]
  },
  {
   "cell_type": "code",
   "execution_count": 61,
   "id": "7571876f-e37c-43c7-8bd0-3e2e0e9cd224",
   "metadata": {},
   "outputs": [
    {
     "data": {
      "text/plain": [
       "[3, 8, 3, 5, 9, 6, 8, 5, 3, 2, 1]"
      ]
     },
     "execution_count": 61,
     "metadata": {},
     "output_type": "execute_result"
    }
   ],
   "source": [
    "l3"
   ]
  },
  {
   "cell_type": "code",
   "execution_count": null,
   "id": "2ba0b668-b88d-4eaf-be7c-f5e3c1b8d5ce",
   "metadata": {},
   "outputs": [],
   "source": []
  }
 ],
 "metadata": {
  "kernelspec": {
   "display_name": "Python 3 (ipykernel)",
   "language": "python",
   "name": "python3"
  },
  "language_info": {
   "codemirror_mode": {
    "name": "ipython",
    "version": 3
   },
   "file_extension": ".py",
   "mimetype": "text/x-python",
   "name": "python",
   "nbconvert_exporter": "python",
   "pygments_lexer": "ipython3",
   "version": "3.10.8"
  }
 },
 "nbformat": 4,
 "nbformat_minor": 5
}
